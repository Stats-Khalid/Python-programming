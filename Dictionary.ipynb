{
  "nbformat": 4,
  "nbformat_minor": 0,
  "metadata": {
    "colab": {
      "provenance": [],
      "authorship_tag": "ABX9TyME6ra5Z9SfGuc1t8EGfTvt",
      "include_colab_link": true
    },
    "kernelspec": {
      "name": "python3",
      "display_name": "Python 3"
    },
    "language_info": {
      "name": "python"
    }
  },
  "cells": [
    {
      "cell_type": "markdown",
      "metadata": {
        "id": "view-in-github",
        "colab_type": "text"
      },
      "source": [
        "<a href=\"https://colab.research.google.com/github/Stats-Khalid/Python-programming/blob/main/Dictionary.ipynb\" target=\"_parent\"><img src=\"https://colab.research.google.com/assets/colab-badge.svg\" alt=\"Open In Colab\"/></a>"
      ]
    },
    {
      "cell_type": "code",
      "execution_count": 29,
      "metadata": {
        "id": "jg8ZmGE840Eq"
      },
      "outputs": [],
      "source": [
        "person_info = {\n",
        "    \"name\": \"shan\",\n",
        "    \"age\": 20,\n",
        "    \"married\": \"bachelor\",  # Assuming \"bachlor\" means not married\n",
        "    \"sex\": \"male\",\n",
        "    \"education\": \"post_graduate\"\n",
        "}"
      ]
    },
    {
      "cell_type": "code",
      "source": [
        "print(person_info)\n"
      ],
      "metadata": {
        "colab": {
          "base_uri": "https://localhost:8080/"
        },
        "id": "W4r9ivQK556l",
        "outputId": "69362b70-b241-40f6-f0e6-4b8e3800d659"
      },
      "execution_count": 30,
      "outputs": [
        {
          "output_type": "stream",
          "name": "stdout",
          "text": [
            "{'name': 'shan', 'age': 20, 'married': 'bachelor', 'sex': 'male', 'education': 'post_graduate'}\n"
          ]
        }
      ]
    },
    {
      "cell_type": "code",
      "source": [
        "print(\"Name:\", person_info[\"name\"])\n",
        "print(\"Age:\", person_info[\"age\"])"
      ],
      "metadata": {
        "colab": {
          "base_uri": "https://localhost:8080/"
        },
        "id": "PO8ex_tW6DQH",
        "outputId": "95f496a9-61b6-402b-c06a-df2328475a24"
      },
      "execution_count": 31,
      "outputs": [
        {
          "output_type": "stream",
          "name": "stdout",
          "text": [
            "Name: shan\n",
            "Age: 20\n"
          ]
        }
      ]
    },
    {
      "cell_type": "code",
      "source": [
        "person_info[\"city\"] = \"New York\"           # Adding one more information\n",
        "print(person_info)"
      ],
      "metadata": {
        "colab": {
          "base_uri": "https://localhost:8080/"
        },
        "id": "Bq3IuQRF6VBl",
        "outputId": "35e81b6b-fbca-43ed-c6c6-f32e2c15fbb2"
      },
      "execution_count": 32,
      "outputs": [
        {
          "output_type": "stream",
          "name": "stdout",
          "text": [
            "{'name': 'shan', 'age': 20, 'married': 'bachelor', 'sex': 'male', 'education': 'post_graduate', 'city': 'New York'}\n"
          ]
        }
      ]
    },
    {
      "cell_type": "code",
      "source": [
        "person_info[\"age\"] = 21     #modification\n",
        "print(person_info)"
      ],
      "metadata": {
        "colab": {
          "base_uri": "https://localhost:8080/"
        },
        "id": "6fChnVmP6ceP",
        "outputId": "1eb693b4-dad6-4670-831d-ea7b1ad2be13"
      },
      "execution_count": 33,
      "outputs": [
        {
          "output_type": "stream",
          "name": "stdout",
          "text": [
            "{'name': 'shan', 'age': 21, 'married': 'bachelor', 'sex': 'male', 'education': 'post_graduate', 'city': 'New York'}\n"
          ]
        }
      ]
    },
    {
      "cell_type": "code",
      "source": [
        "del person_info[\"married\"]         #deleting an element\n",
        "print(person_info)\n"
      ],
      "metadata": {
        "colab": {
          "base_uri": "https://localhost:8080/"
        },
        "id": "hfG-oKhL6rp7",
        "outputId": "17517764-4139-468d-c3a4-2f26179b9fe6"
      },
      "execution_count": 34,
      "outputs": [
        {
          "output_type": "stream",
          "name": "stdout",
          "text": [
            "{'name': 'shan', 'age': 21, 'sex': 'male', 'education': 'post_graduate', 'city': 'New York'}\n"
          ]
        }
      ]
    },
    {
      "cell_type": "code",
      "source": [
        "print(\"education\" in person_info)"
      ],
      "metadata": {
        "colab": {
          "base_uri": "https://localhost:8080/"
        },
        "id": "4CvdsnHq67KD",
        "outputId": "4f68dc35-b456-47e1-a4ff-77b48da615ff"
      },
      "execution_count": 35,
      "outputs": [
        {
          "output_type": "stream",
          "name": "stdout",
          "text": [
            "True\n"
          ]
        }
      ]
    },
    {
      "cell_type": "code",
      "source": [
        "print(\"married\" in person_info)"
      ],
      "metadata": {
        "colab": {
          "base_uri": "https://localhost:8080/"
        },
        "id": "43PoE7Jw7I_R",
        "outputId": "7f3c8e65-3a2b-4edf-a9e9-e9fa25d6c8bb"
      },
      "execution_count": 36,
      "outputs": [
        {
          "output_type": "stream",
          "name": "stdout",
          "text": [
            "False\n"
          ]
        }
      ]
    },
    {
      "cell_type": "code",
      "source": [
        "# Iterating through keys and values\n",
        "for key, value in person_info.items():\n",
        "    print(f\"{key}: {value}\")"
      ],
      "metadata": {
        "colab": {
          "base_uri": "https://localhost:8080/"
        },
        "id": "A0sDLlHO7NW0",
        "outputId": "eff57ab4-851f-4b9f-948b-1e385e616984"
      },
      "execution_count": 37,
      "outputs": [
        {
          "output_type": "stream",
          "name": "stdout",
          "text": [
            "name: shan\n",
            "age: 21\n",
            "sex: male\n",
            "education: post_graduate\n",
            "city: New York\n"
          ]
        }
      ]
    },
    {
      "cell_type": "code",
      "source": [],
      "metadata": {
        "id": "CHAjQBVI7aV6"
      },
      "execution_count": 37,
      "outputs": []
    }
  ]
}