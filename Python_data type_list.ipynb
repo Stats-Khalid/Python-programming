{
 "cells": [
  {
   "cell_type": "markdown",
   "id": "a3ff18c8-dc3b-4b3c-a76c-accbd9ed1420",
   "metadata": {},
   "source": [
    "# List\n",
    "\n",
    "string can be converted in list charecters using list()"
   ]
  },
  {
   "cell_type": "code",
   "execution_count": 107,
   "id": "77e98972-f2b6-4ba9-98ac-ec4d698cdd72",
   "metadata": {},
   "outputs": [],
   "source": [
    "today = \"Thursday\""
   ]
  },
  {
   "cell_type": "code",
   "execution_count": 108,
   "id": "a4f3d6e0-7c03-4705-8f48-2a8673ae4732",
   "metadata": {},
   "outputs": [
    {
     "data": {
      "text/plain": [
       "['T', 'h', 'u', 'r', 's', 'd', 'a', 'y']"
      ]
     },
     "execution_count": 108,
     "metadata": {},
     "output_type": "execute_result"
    }
   ],
   "source": [
    "list(today)"
   ]
  },
  {
   "cell_type": "code",
   "execution_count": 109,
   "id": "2939d957-26b4-451b-851e-cd4d69aec346",
   "metadata": {},
   "outputs": [
    {
     "data": {
      "text/plain": [
       "'d'"
      ]
     },
     "execution_count": 109,
     "metadata": {},
     "output_type": "execute_result"
    }
   ],
   "source": [
    "today[5]"
   ]
  },
  {
   "cell_type": "code",
   "execution_count": 110,
   "id": "51d29137-fff6-474c-aba4-334077f4cdd1",
   "metadata": {},
   "outputs": [
    {
     "data": {
      "text/plain": [
       "'day'"
      ]
     },
     "execution_count": 110,
     "metadata": {},
     "output_type": "execute_result"
    }
   ],
   "source": [
    "today[5:9]"
   ]
  },
  {
   "cell_type": "code",
   "execution_count": 111,
   "id": "73950d43-5bed-47e3-9c36-361d39f2243b",
   "metadata": {},
   "outputs": [
    {
     "data": {
      "text/plain": [
       "8"
      ]
     },
     "execution_count": 111,
     "metadata": {},
     "output_type": "execute_result"
    }
   ],
   "source": [
    "len(today)"
   ]
  },
  {
   "cell_type": "code",
   "execution_count": 112,
   "id": "7e587294-9b3d-4a7e-9abb-538f946ad918",
   "metadata": {},
   "outputs": [
    {
     "data": {
      "text/plain": [
       "8"
      ]
     },
     "execution_count": 112,
     "metadata": {},
     "output_type": "execute_result"
    }
   ],
   "source": [
    "len(\"saturday\")"
   ]
  },
  {
   "cell_type": "code",
   "execution_count": 113,
   "id": "f1ccf270-6120-42b3-8a7b-aaa5f0366930",
   "metadata": {},
   "outputs": [
    {
     "data": {
      "text/plain": [
       "True"
      ]
     },
     "execution_count": 113,
     "metadata": {},
     "output_type": "execute_result"
    }
   ],
   "source": [
    "'day' in today"
   ]
  },
  {
   "cell_type": "code",
   "execution_count": 114,
   "id": "4a4d6dbd-6031-4384-b5c6-ac94c15dd077",
   "metadata": {},
   "outputs": [
    {
     "data": {
      "text/plain": [
       "False"
      ]
     },
     "execution_count": 114,
     "metadata": {},
     "output_type": "execute_result"
    }
   ],
   "source": [
    "'sun' in today"
   ]
  },
  {
   "cell_type": "code",
   "execution_count": 115,
   "id": "a6d75f35-715f-4f92-85f6-5885ef328a3e",
   "metadata": {},
   "outputs": [
    {
     "data": {
      "text/plain": [
       "True"
      ]
     },
     "execution_count": 115,
     "metadata": {},
     "output_type": "execute_result"
    }
   ],
   "source": [
    "'Thur' in today"
   ]
  },
  {
   "cell_type": "code",
   "execution_count": 116,
   "id": "b6bc3f8b-efa0-4357-8929-7d846350fcac",
   "metadata": {},
   "outputs": [
    {
     "data": {
      "text/plain": [
       "False"
      ]
     },
     "execution_count": 116,
     "metadata": {},
     "output_type": "execute_result"
    }
   ],
   "source": [
    "'thur' in today"
   ]
  },
  {
   "cell_type": "markdown",
   "id": "b4daa1b8-931d-4830-843a-7e3d8bef9b0d",
   "metadata": {},
   "source": [
    "# string can be add using addition sign +"
   ]
  },
  {
   "cell_type": "code",
   "execution_count": 117,
   "id": "890cadc8-e619-4506-bb48-5b169c0ca548",
   "metadata": {},
   "outputs": [],
   "source": [
    "me= \"Khalid\"\n",
    "occ= \"stats\""
   ]
  },
  {
   "cell_type": "code",
   "execution_count": 118,
   "id": "3e17edc7-5c85-4eef-bce8-deef32e37ac4",
   "metadata": {},
   "outputs": [
    {
     "data": {
      "text/plain": [
       "'Khalidstats'"
      ]
     },
     "execution_count": 118,
     "metadata": {},
     "output_type": "execute_result"
    }
   ],
   "source": [
    "me+occ"
   ]
  },
  {
   "cell_type": "code",
   "execution_count": 119,
   "id": "0d7e4311-24f7-403b-97b9-f833e6bd0fee",
   "metadata": {},
   "outputs": [
    {
     "data": {
      "text/plain": [
       "'Khalid stats'"
      ]
     },
     "execution_count": 119,
     "metadata": {},
     "output_type": "execute_result"
    }
   ],
   "source": [
    "me+ \" \"+occ"
   ]
  },
  {
   "cell_type": "code",
   "execution_count": 120,
   "id": "a59404dc-eee1-46ee-aaec-e634c64480f2",
   "metadata": {},
   "outputs": [
    {
     "data": {
      "text/plain": [
       "'Khalidstats'"
      ]
     },
     "execution_count": 120,
     "metadata": {},
     "output_type": "execute_result"
    }
   ],
   "source": [
    "me + \"\" +occ"
   ]
  },
  {
   "cell_type": "markdown",
   "id": "4489bea1-08a7-4f7a-b442-17fae435bf09",
   "metadata": {},
   "source": [
    "### .lower(), .upper(), .capitalize()\n",
    "### variable_name.method()"
   ]
  },
  {
   "cell_type": "code",
   "execution_count": 121,
   "id": "0e97cdcd-485a-4866-81b0-4c66b7027794",
   "metadata": {},
   "outputs": [
    {
     "data": {
      "text/plain": [
       "'thursday'"
      ]
     },
     "execution_count": 121,
     "metadata": {},
     "output_type": "execute_result"
    }
   ],
   "source": [
    "today.lower()"
   ]
  },
  {
   "cell_type": "code",
   "execution_count": 122,
   "id": "a9240f15-a963-4a1c-9d07-51eacdd8bd1e",
   "metadata": {},
   "outputs": [
    {
     "data": {
      "text/plain": [
       "'THURSDAY'"
      ]
     },
     "execution_count": 122,
     "metadata": {},
     "output_type": "execute_result"
    }
   ],
   "source": [
    "today.upper()"
   ]
  },
  {
   "cell_type": "code",
   "execution_count": 123,
   "id": "ab88b043-1e65-49fc-8933-255056cfe7b3",
   "metadata": {},
   "outputs": [
    {
     "data": {
      "text/plain": [
       "'Thursday'"
      ]
     },
     "execution_count": 123,
     "metadata": {},
     "output_type": "execute_result"
    }
   ],
   "source": [
    "today.capitalize()"
   ]
  },
  {
   "cell_type": "markdown",
   "id": "8b71c243-3bdf-495e-8cb1-c4ac3e2782b2",
   "metadata": {},
   "source": [
    "# .Split(), .replace(), .formate()"
   ]
  },
  {
   "cell_type": "markdown",
   "id": "7482c7db-8f7f-4723-a8d4-325c290c0cd1",
   "metadata": {},
   "source": [
    "# .replace() used to replace a string to another string"
   ]
  },
  {
   "cell_type": "code",
   "execution_count": 124,
   "id": "235ce6ff-a55d-41d1-8ad1-945ec9cf854f",
   "metadata": {},
   "outputs": [
    {
     "data": {
      "text/plain": [
       "'Thursday'"
      ]
     },
     "execution_count": 124,
     "metadata": {},
     "output_type": "execute_result"
    }
   ],
   "source": [
    "today"
   ]
  },
  {
   "cell_type": "code",
   "execution_count": 125,
   "id": "bfde3def-9e47-43ec-b621-e7ca8aa56e8d",
   "metadata": {},
   "outputs": [],
   "source": [
    "another_day= today.replace(\"Thurs\",\"Fri\")"
   ]
  },
  {
   "cell_type": "code",
   "execution_count": 126,
   "id": "10ff3894-9f0c-4c8d-98d4-37e2b057304e",
   "metadata": {},
   "outputs": [
    {
     "data": {
      "text/plain": [
       "'Friday'"
      ]
     },
     "execution_count": 126,
     "metadata": {},
     "output_type": "execute_result"
    }
   ],
   "source": [
    "another_day"
   ]
  },
  {
   "cell_type": "markdown",
   "id": "93021c50-960f-4d6b-89f5-fa0cc9bdf6a7",
   "metadata": {},
   "source": [
    "#  .split() \n",
    "1  .split() method used to split a string into a list of string based using character(s) provided.\n",
    "2  .split() method use to remove whidespace from begining and the end of the string."
   ]
  },
  {
   "cell_type": "code",
   "execution_count": 127,
   "id": "53c9974d-c286-40c2-9564-2f2334e70179",
   "metadata": {},
   "outputs": [
    {
     "data": {
      "text/plain": [
       "['sun', 'mon', ' tue', ' wed', ' thu', ' fri', ' sat']"
      ]
     },
     "execution_count": 127,
     "metadata": {},
     "output_type": "execute_result"
    }
   ],
   "source": [
    "\"sun,mon, tue, wed, thu, fri, sat\".split(\",\")   "
   ]
  },
  {
   "cell_type": "code",
   "execution_count": 128,
   "id": "6959327f-855f-4859-a961-de7517e9e0d6",
   "metadata": {},
   "outputs": [
    {
     "data": {
      "text/plain": [
       "['My name is khalid',\n",
       " ' I am doing my master from DU',\n",
       " ' It is going good',\n",
       " ' What about you?']"
      ]
     },
     "execution_count": 128,
     "metadata": {},
     "output_type": "execute_result"
    }
   ],
   "source": [
    "\"My name is khalid. I am doing my master from DU. It is going good. What about you?\".split(\".\")"
   ]
  },
  {
   "cell_type": "code",
   "execution_count": 129,
   "id": "a4d357ad-49db-4565-a666-19132c166f65",
   "metadata": {},
   "outputs": [],
   "source": [
    "a_long_line = \"    My name is Khalid and i am doing my post graduation from Delhi University   \""
   ]
  },
  {
   "cell_type": "code",
   "execution_count": 130,
   "id": "d183198f-0e88-41e1-9180-e106dae3e1b5",
   "metadata": {},
   "outputs": [
    {
     "data": {
      "text/plain": [
       "'    My name is Khalid and i am doing my post graduation from Delhi University   '"
      ]
     },
     "execution_count": 130,
     "metadata": {},
     "output_type": "execute_result"
    }
   ],
   "source": [
    "a_long_line"
   ]
  },
  {
   "cell_type": "code",
   "execution_count": 131,
   "id": "be75d921-52ce-464f-b22c-736e2dca9cec",
   "metadata": {},
   "outputs": [],
   "source": [
    "a_long_line_striped= a_long_line.strip()"
   ]
  },
  {
   "cell_type": "code",
   "execution_count": 132,
   "id": "3a2749c1-9c13-4469-8b97-e0af58365a16",
   "metadata": {},
   "outputs": [
    {
     "data": {
      "text/plain": [
       "'My name is Khalid and i am doing my post graduation from Delhi University'"
      ]
     },
     "execution_count": 132,
     "metadata": {},
     "output_type": "execute_result"
    }
   ],
   "source": [
    "a_long_line_striped"
   ]
  },
  {
   "cell_type": "markdown",
   "id": "c94e9cc3-f681-43ad-aada-65b37c284a57",
   "metadata": {},
   "source": [
    "# .format()"
   ]
  },
  {
   "cell_type": "code",
   "execution_count": 133,
   "id": "a7eb8d9b-e7d2-48ac-be09-76588d8a29ae",
   "metadata": {},
   "outputs": [],
   "source": [
    "#format method is used to combine values of all data types. eg int, float, bool, list etc"
   ]
  },
  {
   "cell_type": "code",
   "execution_count": 134,
   "id": "ab98af7b-ead1-4acb-84f2-67b3d0d61530",
   "metadata": {},
   "outputs": [],
   "source": [
    "cost = 1.25\n",
    "profit_margin= 0.2\n",
    "number_of_prod = 500\n"
   ]
  },
  {
   "cell_type": "code",
   "execution_count": 135,
   "id": "dc98a0d8-3d67-4893-bbfd-07533e2e06a2",
   "metadata": {},
   "outputs": [],
   "source": [
    "output= \"\"\"If a grocery store sellsice bags at {} per unit with profit margin of {}%, then the total profit it makes by selling {} unit is ${} \"\"\""
   ]
  },
  {
   "cell_type": "code",
   "execution_count": 136,
   "id": "a51d3620-92a8-4ec9-8b86-43690ab8515c",
   "metadata": {},
   "outputs": [],
   "source": [
    "total_profit= cost*profit_margin*number_of_prod"
   ]
  },
  {
   "cell_type": "code",
   "execution_count": 137,
   "id": "d4407eb6-5e3d-44c0-9266-e98824f0520a",
   "metadata": {},
   "outputs": [],
   "source": [
    "output_massage = output.format(cost, profit_margin*100, number_of_prod, total_profit)"
   ]
  },
  {
   "cell_type": "code",
   "execution_count": 138,
   "id": "3abbf288-0c71-4ffa-9181-957373fd863c",
   "metadata": {},
   "outputs": [
    {
     "data": {
      "text/plain": [
       "'If a grocery store sellsice bags at 1.25 per unit with profit margin of 20.0%, then the total profit it makes by selling 500 unit is $125.0 '"
      ]
     },
     "execution_count": 138,
     "metadata": {},
     "output_type": "execute_result"
    }
   ],
   "source": [
    "output_massage"
   ]
  },
  {
   "cell_type": "code",
   "execution_count": 139,
   "id": "4d761d38-5cd1-4685-9a03-b369e9a14614",
   "metadata": {
    "scrolled": true
   },
   "outputs": [
    {
     "ename": "TypeError",
     "evalue": "can only concatenate str (not \"float\") to str",
     "output_type": "error",
     "traceback": [
      "\u001b[1;31m---------------------------------------------------------------------------\u001b[0m",
      "\u001b[1;31mTypeError\u001b[0m                                 Traceback (most recent call last)",
      "Cell \u001b[1;32mIn[139], line 1\u001b[0m\n\u001b[1;32m----> 1\u001b[0m output1\u001b[38;5;241m=\u001b[39m\u001b[38;5;124m\"\u001b[39m\u001b[38;5;124mIf a grocery store sellsice bags at\u001b[39m\u001b[38;5;124m\"\u001b[39m\u001b[38;5;241m+\u001b[39m cost \u001b[38;5;241m+\u001b[39m \u001b[38;5;124m\"\u001b[39m\u001b[38;5;124mper unit with profit margin of\u001b[39m\u001b[38;5;124m\"\u001b[39m \u001b[38;5;241m+\u001b[39m profit_margin\u001b[38;5;241m*\u001b[39m\u001b[38;5;241m100\u001b[39m\u001b[38;5;241m+\u001b[39m \u001b[38;5;124m\"\u001b[39m\u001b[38;5;124m%\u001b[39m\u001b[38;5;124m then the total profit it makes by selling\u001b[39m\u001b[38;5;124m\"\u001b[39m \u001b[38;5;241m+\u001b[39m number_of_prod\u001b[38;5;241m+\u001b[39m \u001b[38;5;124m\"\u001b[39m\u001b[38;5;124m unit is \u001b[39m\u001b[38;5;124m\"\u001b[39m \u001b[38;5;241m+\u001b[39m total_profit\n",
      "\u001b[1;31mTypeError\u001b[0m: can only concatenate str (not \"float\") to str"
     ]
    }
   ],
   "source": [
    "output1=\"If a grocery store sellsice bags at\"+ cost + \"per unit with profit margin of\" + profit_margin*100+ \"% then the total profit it makes by selling\" + number_of_prod+ \" unit is \" + total_profit"
   ]
  },
  {
   "cell_type": "code",
   "execution_count": 140,
   "id": "f6342336-a210-4a56-8665-869337f8672a",
   "metadata": {},
   "outputs": [],
   "source": [
    "output1=\"If a grocery store sellsice bags at\"+ str(cost) + \"per unit with profit margin of\" + str(profit_margin*100) + \"% then the total profit it makes by selling\" + str(number_of_prod) + \" unit is \" + str(total_profit)"
   ]
  },
  {
   "cell_type": "code",
   "execution_count": 141,
   "id": "91aa3421-155e-4dfd-a238-e85fc6d6ac83",
   "metadata": {},
   "outputs": [
    {
     "data": {
      "text/plain": [
       "'If a grocery store sellsice bags at1.25per unit with profit margin of20.0% then the total profit it makes by selling500 unit is 125.0'"
      ]
     },
     "execution_count": 141,
     "metadata": {},
     "output_type": "execute_result"
    }
   ],
   "source": [
    "output1"
   ]
  },
  {
   "cell_type": "code",
   "execution_count": 142,
   "id": "cadceb48-bf79-4869-989e-b3d5288d7068",
   "metadata": {},
   "outputs": [
    {
     "data": {
      "text/plain": [
       "'23'"
      ]
     },
     "execution_count": 142,
     "metadata": {},
     "output_type": "execute_result"
    }
   ],
   "source": [
    "str(23)"
   ]
  },
  {
   "cell_type": "code",
   "execution_count": 143,
   "id": "7d12b297-bb74-4c3f-b5f3-f91b6cbdff13",
   "metadata": {},
   "outputs": [
    {
     "data": {
      "text/plain": [
       "'True'"
      ]
     },
     "execution_count": 143,
     "metadata": {},
     "output_type": "execute_result"
    }
   ],
   "source": [
    "str(True)"
   ]
  },
  {
   "cell_type": "code",
   "execution_count": 144,
   "id": "67fc02e6-f416-43b3-beee-498b88f02bfb",
   "metadata": {},
   "outputs": [],
   "source": [
    "first_name=\"Mohd\"\n",
    "last_name=\"Khalid\"\n"
   ]
  },
  {
   "cell_type": "code",
   "execution_count": 145,
   "id": "13719910-0379-44d9-9a18-3688fcd6e509",
   "metadata": {},
   "outputs": [
    {
     "data": {
      "text/plain": [
       "False"
      ]
     },
     "execution_count": 145,
     "metadata": {},
     "output_type": "execute_result"
    }
   ],
   "source": [
    "first_name == \"abdul\""
   ]
  },
  {
   "cell_type": "code",
   "execution_count": 146,
   "id": "c0638016-9f85-4aea-a187-65ebc9ed1a5f",
   "metadata": {},
   "outputs": [
    {
     "data": {
      "text/plain": [
       "True"
      ]
     },
     "execution_count": 146,
     "metadata": {},
     "output_type": "execute_result"
    }
   ],
   "source": [
    "last_name == \"Khalid\""
   ]
  },
  {
   "cell_type": "code",
   "execution_count": 147,
   "id": "4af636c4-d7c6-45bd-9378-8d33c84e6397",
   "metadata": {},
   "outputs": [],
   "source": [
    "fruit = ['Banana','Apple','papaya']"
   ]
  },
  {
   "cell_type": "code",
   "execution_count": 148,
   "id": "e3859a2f-7f59-405f-bd8a-51f910217d71",
   "metadata": {},
   "outputs": [
    {
     "data": {
      "text/plain": [
       "['Banana', 'Apple', 'papaya']"
      ]
     },
     "execution_count": 148,
     "metadata": {},
     "output_type": "execute_result"
    }
   ],
   "source": [
    "fruit"
   ]
  },
  {
   "cell_type": "code",
   "execution_count": 149,
   "id": "0037133f-b8b4-4c5c-b02d-cda73a566811",
   "metadata": {},
   "outputs": [
    {
     "data": {
      "text/plain": [
       "list"
      ]
     },
     "execution_count": 149,
     "metadata": {},
     "output_type": "execute_result"
    }
   ],
   "source": [
    "type(fruit)"
   ]
  },
  {
   "cell_type": "code",
   "execution_count": 150,
   "id": "e31ad6af-3c68-4225-a791-9e815ef74233",
   "metadata": {},
   "outputs": [],
   "source": [
    "a_list= [1,5,'Banana',None, fruit,3<=5]   # A list can contain different types of data sets"
   ]
  },
  {
   "cell_type": "code",
   "execution_count": 151,
   "id": "294fae59-0c55-4fe7-b54e-1d017dc2812d",
   "metadata": {},
   "outputs": [
    {
     "data": {
      "text/plain": [
       "[1, 5, 'Banana', None, ['Banana', 'Apple', 'papaya'], True]"
      ]
     },
     "execution_count": 151,
     "metadata": {},
     "output_type": "execute_result"
    }
   ],
   "source": [
    "a_list"
   ]
  },
  {
   "cell_type": "code",
   "execution_count": 152,
   "id": "71b6f3f6-c500-4710-8515-21e786513a8e",
   "metadata": {},
   "outputs": [],
   "source": [
    "empty_list= []"
   ]
  },
  {
   "cell_type": "code",
   "execution_count": 153,
   "id": "a63310db-9c1d-41c8-963d-1d29b50a90b8",
   "metadata": {},
   "outputs": [
    {
     "data": {
      "text/plain": [
       "[]"
      ]
     },
     "execution_count": 153,
     "metadata": {},
     "output_type": "execute_result"
    }
   ],
   "source": [
    "empty_list"
   ]
  },
  {
   "cell_type": "code",
   "execution_count": 154,
   "id": "65085453-75e1-4b18-8103-13573f4e6241",
   "metadata": {},
   "outputs": [
    {
     "data": {
      "text/plain": [
       "list"
      ]
     },
     "execution_count": 154,
     "metadata": {},
     "output_type": "execute_result"
    }
   ],
   "source": [
    "type(empty_list)"
   ]
  },
  {
   "cell_type": "code",
   "execution_count": 155,
   "id": "5f78c57c-f811-49a9-81d5-9e1851756aee",
   "metadata": {},
   "outputs": [
    {
     "data": {
      "text/plain": [
       "6"
      ]
     },
     "execution_count": 155,
     "metadata": {},
     "output_type": "execute_result"
    }
   ],
   "source": [
    "len(a_list)"
   ]
  },
  {
   "cell_type": "code",
   "execution_count": 156,
   "id": "a4c6b532-b215-4bf2-a711-e145678e3c1c",
   "metadata": {},
   "outputs": [],
   "source": [
    "a_list[3]    #contain none "
   ]
  },
  {
   "cell_type": "code",
   "execution_count": 157,
   "id": "c2634dbc-e251-4c69-965e-0e0fe3496131",
   "metadata": {},
   "outputs": [
    {
     "data": {
      "text/plain": [
       "['Banana', 'Apple', 'papaya']"
      ]
     },
     "execution_count": 157,
     "metadata": {},
     "output_type": "execute_result"
    }
   ],
   "source": [
    "a_list[4]"
   ]
  },
  {
   "cell_type": "code",
   "execution_count": 158,
   "id": "89ca91ce-71bd-4f52-b03c-570b829b2c7f",
   "metadata": {},
   "outputs": [
    {
     "data": {
      "text/plain": [
       "3"
      ]
     },
     "execution_count": 158,
     "metadata": {},
     "output_type": "execute_result"
    }
   ],
   "source": [
    "len(fruit)"
   ]
  },
  {
   "cell_type": "code",
   "execution_count": 159,
   "id": "9a47370f-5104-412a-99e0-6ef3f9edea00",
   "metadata": {},
   "outputs": [
    {
     "data": {
      "text/plain": [
       "'Apple'"
      ]
     },
     "execution_count": 159,
     "metadata": {},
     "output_type": "execute_result"
    }
   ],
   "source": [
    "fruit[-2]"
   ]
  },
  {
   "cell_type": "code",
   "execution_count": 160,
   "id": "6f1719de-a0ab-47d1-9208-89a880f2c102",
   "metadata": {},
   "outputs": [
    {
     "data": {
      "text/plain": [
       "['Banana', None, ['Banana', 'Apple', 'papaya']]"
      ]
     },
     "execution_count": 160,
     "metadata": {},
     "output_type": "execute_result"
    }
   ],
   "source": [
    "a_list[2:5]   #sublist of the list"
   ]
  },
  {
   "cell_type": "markdown",
   "id": "03173f71-782d-40c8-9cab-86d14c5dee92",
   "metadata": {},
   "source": [
    "# Lets change an element of the list"
   ]
  },
  {
   "cell_type": "code",
   "execution_count": 161,
   "id": "d800f939-9477-49e1-959c-27715f901a27",
   "metadata": {},
   "outputs": [],
   "source": [
    "fruit[1] = \"sadiq\""
   ]
  },
  {
   "cell_type": "code",
   "execution_count": 162,
   "id": "52107442-3ec3-4a4a-8946-768a0aec97d6",
   "metadata": {},
   "outputs": [
    {
     "data": {
      "text/plain": [
       "['Banana', 'sadiq', 'papaya']"
      ]
     },
     "execution_count": 162,
     "metadata": {},
     "output_type": "execute_result"
    }
   ],
   "source": [
    "fruit  #sadiq is a fruit hahaha"
   ]
  },
  {
   "cell_type": "markdown",
   "id": "b50d55f3-4842-4afa-96eb-08597c645605",
   "metadata": {},
   "source": [
    "#  .append(), .remove(), .insert(), .pop()"
   ]
  },
  {
   "cell_type": "code",
   "execution_count": 163,
   "id": "539a2de7-87a4-4057-914f-298ab589353a",
   "metadata": {},
   "outputs": [],
   "source": [
    "fruit.append('kela')  #more time run , more time elemet will add"
   ]
  },
  {
   "cell_type": "code",
   "execution_count": 164,
   "id": "2a868a94-dd1f-4976-800f-a056f66553af",
   "metadata": {},
   "outputs": [
    {
     "data": {
      "text/plain": [
       "['Banana', 'sadiq', 'papaya', 'kela']"
      ]
     },
     "execution_count": 164,
     "metadata": {},
     "output_type": "execute_result"
    }
   ],
   "source": [
    "fruit"
   ]
  },
  {
   "cell_type": "code",
   "execution_count": 165,
   "id": "a4988fcc-a41f-47de-a1bd-66fac0d57424",
   "metadata": {},
   "outputs": [],
   "source": [
    "fruit.remove('sadiq')"
   ]
  },
  {
   "cell_type": "code",
   "execution_count": 166,
   "id": "013db567-f33b-469f-8da8-b4e9bde0620e",
   "metadata": {},
   "outputs": [
    {
     "data": {
      "text/plain": [
       "['Banana', 'papaya', 'kela']"
      ]
     },
     "execution_count": 166,
     "metadata": {},
     "output_type": "execute_result"
    }
   ],
   "source": [
    "fruit"
   ]
  },
  {
   "cell_type": "code",
   "execution_count": 167,
   "id": "23d4d735-ec00-438c-b606-757758aa432c",
   "metadata": {},
   "outputs": [],
   "source": [
    "fruit.insert(2, 'angoor')"
   ]
  },
  {
   "cell_type": "code",
   "execution_count": 168,
   "id": "3e7ec511-3c9e-486c-999f-0a694b9c39f0",
   "metadata": {},
   "outputs": [
    {
     "data": {
      "text/plain": [
       "['Banana', 'papaya', 'angoor', 'kela']"
      ]
     },
     "execution_count": 168,
     "metadata": {},
     "output_type": "execute_result"
    }
   ],
   "source": [
    "fruit"
   ]
  },
  {
   "cell_type": "code",
   "execution_count": 169,
   "id": "fbe13360-0bb6-442c-9a41-7b29ec20474a",
   "metadata": {},
   "outputs": [],
   "source": [
    "fruit.remove('kela')"
   ]
  },
  {
   "cell_type": "code",
   "execution_count": 170,
   "id": "13d05a36-78e1-427f-8975-3766b25a3849",
   "metadata": {},
   "outputs": [
    {
     "data": {
      "text/plain": [
       "['Banana', 'papaya', 'angoor']"
      ]
     },
     "execution_count": 170,
     "metadata": {},
     "output_type": "execute_result"
    }
   ],
   "source": [
    "fruit"
   ]
  },
  {
   "cell_type": "code",
   "execution_count": 171,
   "id": "16c40626-5631-4aeb-8895-7028f42a41a0",
   "metadata": {},
   "outputs": [
    {
     "data": {
      "text/plain": [
       "'papaya'"
      ]
     },
     "execution_count": 171,
     "metadata": {},
     "output_type": "execute_result"
    }
   ],
   "source": [
    "fruit.pop(1)  #To remove the 2nd element"
   ]
  },
  {
   "cell_type": "code",
   "execution_count": 172,
   "id": "2e8fbc83-6dff-49dd-9169-506a99f149b9",
   "metadata": {},
   "outputs": [
    {
     "data": {
      "text/plain": [
       "['Banana', 'angoor']"
      ]
     },
     "execution_count": 172,
     "metadata": {},
     "output_type": "execute_result"
    }
   ],
   "source": [
    "fruit"
   ]
  },
  {
   "cell_type": "code",
   "execution_count": 173,
   "id": "4db5569a-2cef-4463-942b-828997ead847",
   "metadata": {},
   "outputs": [],
   "source": [
    "# fruit.pop()  , No index, pop will remove the last element"
   ]
  },
  {
   "cell_type": "code",
   "execution_count": 174,
   "id": "b0ecbbf9-5354-4b1f-a672-9d6611ef2730",
   "metadata": {},
   "outputs": [],
   "source": [
    "list1= [1,5,fruit,'khalid']"
   ]
  },
  {
   "cell_type": "code",
   "execution_count": 176,
   "id": "a1449bf2-5c59-4299-9c73-9260d2888c14",
   "metadata": {},
   "outputs": [
    {
     "data": {
      "text/plain": [
       "[1, 5, ['Banana', 'angoor'], 'khalid']"
      ]
     },
     "execution_count": 176,
     "metadata": {},
     "output_type": "execute_result"
    }
   ],
   "source": [
    "list1"
   ]
  },
  {
   "cell_type": "code",
   "execution_count": 178,
   "id": "49160b5c-ce73-417f-a6ac-a5525657c881",
   "metadata": {},
   "outputs": [
    {
     "data": {
      "text/plain": [
       "True"
      ]
     },
     "execution_count": 178,
     "metadata": {},
     "output_type": "execute_result"
    }
   ],
   "source": [
    "\"khalid\" in list1"
   ]
  },
  {
   "cell_type": "code",
   "execution_count": 179,
   "id": "c25b6d27-c915-4d1d-9c9d-d339dc168d6b",
   "metadata": {},
   "outputs": [
    {
     "data": {
      "text/plain": [
       "True"
      ]
     },
     "execution_count": 179,
     "metadata": {},
     "output_type": "execute_result"
    }
   ],
   "source": [
    "'kha' in list1[3]"
   ]
  },
  {
   "cell_type": "code",
   "execution_count": 182,
   "id": "9666f408-5027-49ed-a02d-dc19f836fd04",
   "metadata": {},
   "outputs": [],
   "source": [
    "list2 = fruit + list1     #adding two list"
   ]
  },
  {
   "cell_type": "code",
   "execution_count": 183,
   "id": "04b82f0c-5606-47a2-baf0-9c947207240f",
   "metadata": {},
   "outputs": [
    {
     "data": {
      "text/plain": [
       "['Banana', 'angoor', 1, 5, ['Banana', 'angoor'], 'khalid']"
      ]
     },
     "execution_count": 183,
     "metadata": {},
     "output_type": "execute_result"
    }
   ],
   "source": [
    "list2"
   ]
  },
  {
   "cell_type": "code",
   "execution_count": 184,
   "id": "8af50d88-7ca5-4c04-8348-64e8c061ddf0",
   "metadata": {},
   "outputs": [
    {
     "data": {
      "text/plain": [
       "'C:\\\\Users\\\\khalid'"
      ]
     },
     "execution_count": 184,
     "metadata": {},
     "output_type": "execute_result"
    }
   ],
   "source": [
    "import os\n",
    "os.getcwd()"
   ]
  },
  {
   "cell_type": "code",
   "execution_count": null,
   "id": "26ec72ad-6400-43c3-a279-72711da10f32",
   "metadata": {},
   "outputs": [],
   "source": []
  }
 ],
 "metadata": {
  "kernelspec": {
   "display_name": "Python [conda env:base] *",
   "language": "python",
   "name": "conda-base-py"
  },
  "language_info": {
   "codemirror_mode": {
    "name": "ipython",
    "version": 3
   },
   "file_extension": ".py",
   "mimetype": "text/x-python",
   "name": "python",
   "nbconvert_exporter": "python",
   "pygments_lexer": "ipython3",
   "version": "3.13.5"
  }
 },
 "nbformat": 4,
 "nbformat_minor": 5
}
