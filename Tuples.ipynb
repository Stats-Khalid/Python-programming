{
 "cells": [
  {
   "cell_type": "markdown",
   "id": "fb505d78-6e17-4e7e-9ab9-4e38d6a270fe",
   "metadata": {},
   "source": [
    "#  Touple"
   ]
  },
  {
   "cell_type": "markdown",
   "id": "cf735f20-6bf8-427c-98f1-0d9043d02302",
   "metadata": {},
   "source": [
    "#### Touples are ordered collection of elements same as list but it is immutable and created by enclosing values within parantheses ( and ), sperated by commas"
   ]
  },
  {
   "cell_type": "code",
   "execution_count": 30,
   "id": "ccb9caba-02b9-4651-be81-9e726c8ae2ec",
   "metadata": {},
   "outputs": [],
   "source": [
    "friends = ('khalid','abdul','shan','sadiq')"
   ]
  },
  {
   "cell_type": "code",
   "execution_count": 31,
   "id": "93875d50-8913-4c86-b4ea-2105b72ce6c4",
   "metadata": {},
   "outputs": [
    {
     "data": {
      "text/plain": [
       "4"
      ]
     },
     "execution_count": 31,
     "metadata": {},
     "output_type": "execute_result"
    }
   ],
   "source": [
    "len(friends)"
   ]
  },
  {
   "cell_type": "code",
   "execution_count": 32,
   "id": "1be61b45-4dfc-47ca-85d0-aa9735ce03b3",
   "metadata": {},
   "outputs": [
    {
     "data": {
      "text/plain": [
       "'khalid'"
      ]
     },
     "execution_count": 32,
     "metadata": {},
     "output_type": "execute_result"
    }
   ],
   "source": [
    "friends[0]"
   ]
  },
  {
   "cell_type": "code",
   "execution_count": 33,
   "id": "46c326f7-75f9-448f-aadd-1c9c55359197",
   "metadata": {},
   "outputs": [
    {
     "data": {
      "text/plain": [
       "tuple"
      ]
     },
     "execution_count": 33,
     "metadata": {},
     "output_type": "execute_result"
    }
   ],
   "source": [
    "type(friends)        "
   ]
  },
  {
   "cell_type": "code",
   "execution_count": 34,
   "id": "ef3feb0f-b12e-46e1-acc3-1afc3433054a",
   "metadata": {},
   "outputs": [
    {
     "data": {
      "text/plain": [
       "4"
      ]
     },
     "execution_count": 34,
     "metadata": {},
     "output_type": "execute_result"
    }
   ],
   "source": [
    "len(friends)         "
   ]
  },
  {
   "cell_type": "code",
   "execution_count": 35,
   "id": "642e4e6e-70f0-4086-8501-a05b184d46e6",
   "metadata": {},
   "outputs": [
    {
     "data": {
      "text/plain": [
       "('abdul', 'shan')"
      ]
     },
     "execution_count": 35,
     "metadata": {},
     "output_type": "execute_result"
    }
   ],
   "source": [
    "friends[1:3]          "
   ]
  },
  {
   "cell_type": "code",
   "execution_count": 36,
   "id": "6a5e108d-5c89-48d2-affc-a6cd8b2247a0",
   "metadata": {},
   "outputs": [
    {
     "data": {
      "text/plain": [
       "'sadiq'"
      ]
     },
     "execution_count": 36,
     "metadata": {},
     "output_type": "execute_result"
    }
   ],
   "source": [
    "friends[-1]           # Last element"
   ]
  },
  {
   "cell_type": "code",
   "execution_count": 37,
   "id": "7ee99481-c133-4472-b725-5ef1278b1bcb",
   "metadata": {},
   "outputs": [
    {
     "data": {
      "text/plain": [
       "True"
      ]
     },
     "execution_count": 37,
     "metadata": {},
     "output_type": "execute_result"
    }
   ],
   "source": [
    "\"shan\" in friends   "
   ]
  },
  {
   "cell_type": "code",
   "execution_count": 38,
   "id": "604e2e29-9ea7-4c66-93cf-a3ab79df5959",
   "metadata": {},
   "outputs": [
    {
     "data": {
      "text/plain": [
       "2"
      ]
     },
     "execution_count": 38,
     "metadata": {},
     "output_type": "execute_result"
    }
   ],
   "source": [
    "friends.index(\"shan\") "
   ]
  },
  {
   "cell_type": "code",
   "execution_count": 39,
   "id": "49a467eb-4145-4579-a4fb-52828eb1968f",
   "metadata": {},
   "outputs": [
    {
     "data": {
      "text/plain": [
       "1"
      ]
     },
     "execution_count": 39,
     "metadata": {},
     "output_type": "execute_result"
    }
   ],
   "source": [
    "friends.count(\"shan\")       # no. of a particular element count"
   ]
  },
  {
   "cell_type": "code",
   "execution_count": 40,
   "id": "1fc3ccee-ddf7-4127-a6ea-7d466e887888",
   "metadata": {},
   "outputs": [
    {
     "data": {
      "text/plain": [
       "('khalid', 'abdul', 'shan', 'sadiq', 'vinit')"
      ]
     },
     "execution_count": 40,
     "metadata": {},
     "output_type": "execute_result"
    }
   ],
   "source": [
    "friends + (\"vinit\",)     # Concatenate a new element"
   ]
  },
  {
   "cell_type": "code",
   "execution_count": 41,
   "id": "d235db66-cb96-4414-a118-01dbb6aafc3c",
   "metadata": {},
   "outputs": [],
   "source": [
    "friends1= friends * 2              # Repeat tuple"
   ]
  },
  {
   "cell_type": "code",
   "execution_count": 42,
   "id": "b4048f10-569e-4c67-b17d-a3ec788607af",
   "metadata": {},
   "outputs": [
    {
     "data": {
      "text/plain": [
       "('khalid', 'abdul', 'shan', 'sadiq', 'khalid', 'abdul', 'shan', 'sadiq')"
      ]
     },
     "execution_count": 42,
     "metadata": {},
     "output_type": "execute_result"
    }
   ],
   "source": [
    " friends1"
   ]
  },
  {
   "cell_type": "code",
   "execution_count": 43,
   "id": "a895f746-58fd-4c80-b714-5d58acf48faf",
   "metadata": {},
   "outputs": [
    {
     "data": {
      "text/plain": [
       "['khalid', 'abdul', 'shan', 'sadiq']"
      ]
     },
     "execution_count": 43,
     "metadata": {},
     "output_type": "execute_result"
    }
   ],
   "source": [
    "list(friends)         # Convert tuple to list (for editing)"
   ]
  },
  {
   "cell_type": "code",
   "execution_count": 44,
   "id": "d3f3bce8-46ae-4979-8722-e601bbedbf81",
   "metadata": {},
   "outputs": [
    {
     "data": {
      "text/plain": [
       "('DU', 'AMU')"
      ]
     },
     "execution_count": 44,
     "metadata": {},
     "output_type": "execute_result"
    }
   ],
   "source": [
    "tuple([\"DU\", \"AMU\"])  # Convert list to tuple"
   ]
  },
  {
   "cell_type": "code",
   "execution_count": 45,
   "id": "d4e45e0f-2cae-43bc-9a28-1a3a231fe292",
   "metadata": {},
   "outputs": [
    {
     "data": {
      "text/plain": [
       "True"
      ]
     },
     "execution_count": 45,
     "metadata": {},
     "output_type": "execute_result"
    }
   ],
   "source": [
    "friends == (\"khalid\", \"abdul\", \"shan\", \"sadiq\") "
   ]
  },
  {
   "cell_type": "code",
   "execution_count": 47,
   "id": "3e9c08a8-5157-4c4e-8ad5-60547fbdbf08",
   "metadata": {},
   "outputs": [
    {
     "data": {
      "text/plain": [
       "1678449023296"
      ]
     },
     "execution_count": 47,
     "metadata": {},
     "output_type": "execute_result"
    }
   ],
   "source": [
    "id(friends)              # Identity in memory"
   ]
  },
  {
   "cell_type": "code",
   "execution_count": 48,
   "id": "5ac82034-a536-414d-b827-ce7d4daaaebf",
   "metadata": {},
   "outputs": [
    {
     "data": {
      "text/plain": [
       "['__add__',\n",
       " '__class__',\n",
       " '__class_getitem__',\n",
       " '__contains__',\n",
       " '__delattr__',\n",
       " '__dir__',\n",
       " '__doc__',\n",
       " '__eq__',\n",
       " '__format__',\n",
       " '__ge__',\n",
       " '__getattribute__',\n",
       " '__getitem__',\n",
       " '__getnewargs__',\n",
       " '__getstate__',\n",
       " '__gt__',\n",
       " '__hash__',\n",
       " '__init__',\n",
       " '__init_subclass__',\n",
       " '__iter__',\n",
       " '__le__',\n",
       " '__len__',\n",
       " '__lt__',\n",
       " '__mul__',\n",
       " '__ne__',\n",
       " '__new__',\n",
       " '__reduce__',\n",
       " '__reduce_ex__',\n",
       " '__repr__',\n",
       " '__rmul__',\n",
       " '__setattr__',\n",
       " '__sizeof__',\n",
       " '__str__',\n",
       " '__subclasshook__',\n",
       " 'count',\n",
       " 'index']"
      ]
     },
     "execution_count": 48,
     "metadata": {},
     "output_type": "execute_result"
    }
   ],
   "source": [
    "dir(friends)"
   ]
  },
  {
   "cell_type": "code",
   "execution_count": null,
   "id": "516f4cdc-4043-47be-ac2a-4a8f806dae6b",
   "metadata": {},
   "outputs": [],
   "source": []
  }
 ],
 "metadata": {
  "kernelspec": {
   "display_name": "Python [conda env:base] *",
   "language": "python",
   "name": "conda-base-py"
  },
  "language_info": {
   "codemirror_mode": {
    "name": "ipython",
    "version": 3
   },
   "file_extension": ".py",
   "mimetype": "text/x-python",
   "name": "python",
   "nbconvert_exporter": "python",
   "pygments_lexer": "ipython3",
   "version": "3.13.5"
  }
 },
 "nbformat": 4,
 "nbformat_minor": 5
}
